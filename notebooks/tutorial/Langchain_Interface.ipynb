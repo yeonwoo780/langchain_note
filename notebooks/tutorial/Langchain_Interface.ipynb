{
 "cells": [
  {
   "cell_type": "markdown",
   "metadata": {},
   "source": [
    "## Langchain_Interface"
   ]
  },
  {
   "cell_type": "code",
   "execution_count": 1,
   "metadata": {},
   "outputs": [
    {
     "data": {
      "text/plain": [
       "'/home/yeonwoo/code/study/langchain_note'"
      ]
     },
     "execution_count": 1,
     "metadata": {},
     "output_type": "execute_result"
    }
   ],
   "source": [
    "import os\n",
    "os.chdir(\"../../\")\n",
    "os.getcwd()"
   ]
  },
  {
   "cell_type": "code",
   "execution_count": 2,
   "metadata": {},
   "outputs": [
    {
     "data": {
      "text/plain": [
       "True"
      ]
     },
     "execution_count": 2,
     "metadata": {},
     "output_type": "execute_result"
    }
   ],
   "source": [
    "# API KEY를 환경변수로 관리하기 위한 설정 파일\n",
    "from dotenv import load_dotenv\n",
    "\n",
    "# API KEY 정보로드\n",
    "load_dotenv()"
   ]
  },
  {
   "cell_type": "code",
   "execution_count": 5,
   "metadata": {},
   "outputs": [],
   "source": [
    "os.environ[\"OPENAI_API_KEY\"] = os.getenv(\"OPENAI_KEY\")"
   ]
  },
  {
   "cell_type": "code",
   "execution_count": 3,
   "metadata": {},
   "outputs": [],
   "source": [
    "from langchain_openai import ChatOpenAI\n",
    "from langchain_core.prompts import PromptTemplate\n",
    "from langchain_core.output_parsers import StrOutputParser"
   ]
  },
  {
   "cell_type": "code",
   "execution_count": 6,
   "metadata": {},
   "outputs": [
    {
     "data": {
      "text/plain": [
       "PromptTemplate(input_variables=['topic'], template='{topic}에 대하여 3문장으로 설명해줘.')\n",
       "| ChatOpenAI(client=<openai.resources.chat.completions.Completions object at 0x7f5393e11510>, async_client=<openai.resources.chat.completions.AsyncCompletions object at 0x7f5393c5be50>, openai_api_key=SecretStr('**********'), openai_proxy='')\n",
       "| StrOutputParser()"
      ]
     },
     "execution_count": 6,
     "metadata": {},
     "output_type": "execute_result"
    }
   ],
   "source": [
    "model = ChatOpenAI()\n",
    "prompt = PromptTemplate.from_template(\"{topic}에 대하여 3문장으로 설명해줘.\")\n",
    "chain = prompt | model | StrOutputParser()\n",
    "chain"
   ]
  },
  {
   "cell_type": "markdown",
   "metadata": {},
   "source": [
    "### stream: 실시간 출력"
   ]
  },
  {
   "cell_type": "code",
   "execution_count": 7,
   "metadata": {},
   "outputs": [
    {
     "name": "stdout",
     "output_type": "stream",
     "text": [
      "멀티모달은 여러 가지 다양한 형태의 정보를 결합하여 제공하는 시스템이다. 이는 텍스트, 이미지, 음성, 동영상 등 다양한 매체를 활용하여 사용자에게 정보를 전달하고 상호작용할 수 있는 기술이다. 멀티모달은 사용자 경험을 향상시키며 효율적인 의사소통과 작업 수행을 도와준다."
     ]
    }
   ],
   "source": [
    "for token in chain.stream({\"topic\": \"멀티모달\"}):\n",
    "    print(token, end=\"\", flush=True)"
   ]
  },
  {
   "cell_type": "markdown",
   "metadata": {},
   "source": [
    "### invoke: 호출"
   ]
  },
  {
   "cell_type": "code",
   "execution_count": 8,
   "metadata": {},
   "outputs": [
    {
     "data": {
      "text/plain": [
       "'멀티모달(Multimodal)은 여러 가지 다양한 형태의 매체를 결합하여 정보를 전달하는 방식을 의미합니다. 이는 텍스트, 이미지, 음성, 영상 등 다양한 형태의 자료를 함께 사용하여 더 풍부하고 효과적인 커뮤니케이션을 가능하게 합니다. 멀티모달은 다양한 매체를 활용하여 사용자들에게 보다 풍부하고 다채로운 경험을 제공하며, 정보를 효과적으로 전달하는데 도움을 줍니다.'"
      ]
     },
     "execution_count": 8,
     "metadata": {},
     "output_type": "execute_result"
    }
   ],
   "source": [
    "chain.invoke({\"topic\":\"멀티모달\"})"
   ]
  },
  {
   "cell_type": "markdown",
   "metadata": {},
   "source": [
    "### batch: 배치(단위 실행)"
   ]
  },
  {
   "cell_type": "code",
   "execution_count": 9,
   "metadata": {},
   "outputs": [
    {
     "data": {
      "text/plain": [
       "['네이버는 한국의 대표적인 포털 사이트로, 다양한 정보와 서비스를 제공한다. 검색 엔진을 통해 사용자가 원하는 정보를 쉽게 찾을 수 있고, 뉴스, 블로그, 동영상 등 다양한 콘텐츠를 제공한다. 또한 네이버페이, 네이버쇼핑, 네이버카페 등 다양한 플랫폼을 운영하며 온라인 생태계를 이끌고 있다.',\n",
       " '구글은 미국의 다국적 기업으로 세계적으로 가장 많이 사용되는 검색 엔진이다. 구글은 검색뿐만 아니라 이메일, 지도, 동영상 등 다양한 온라인 서비스를 제공한다. 또한 구글은 사용자의 데이터를 수집하여 맞춤형 광고를 제공하는 등 다양한 비즈니스 모델을 운영하고 있다.']"
      ]
     },
     "execution_count": 9,
     "metadata": {},
     "output_type": "execute_result"
    }
   ],
   "source": [
    "chain.batch([\n",
    "    {\"topic\":\"네이버\"},{\"topic\":\"구글\"}\n",
    "])"
   ]
  },
  {
   "cell_type": "code",
   "execution_count": 10,
   "metadata": {},
   "outputs": [
    {
     "data": {
      "text/plain": [
       "['ChatGPT는 OpenAI에서 개발된 자연어 처리 기술로, 대화형 인공지능 챗봇을 만들 때 사용됩니다. 이 기술은 사용자의 입력에 따라 자연스럽게 대화를 이어나가며 다양한 주제에 대해 이해하고 응답할 수 있습니다. ChatGPT는 자동응답 시스템, 가상 비서, 고객 서비스 등 다양한 분야에서 활용될 수 있습니다.',\n",
       " 'Instagram은 사진과 동영상을 공유하는 소셜 미디어 플랫폼으로, 사용자는 팔로워들과 소통하고 일상을 공유할 수 있다. 또한 해시태그를 활용하여 관심사에 맞는 콘텐츠를 찾을 수 있으며, 인플루언서들이 상품 홍보나 광고를 통해 수익을 창출할 수 있는 플랫폼이기도 하다. 최근에는 스토리나 릴스를 활용한 콘텐츠도 인기를 끌고 있으며, 사용자들은 자신의 삶을 더 다양한 방식으로 공유하고 소통할 수 있다.',\n",
       " '멀티모달은 여러 가지 다양한 형태의 정보를 결합하여 제공하는 시스템이다. 예를 들어 음성, 이미지, 텍스트 등 다양한 형태의 입력을 받아들여 사용자에게 최적화된 정보를 제공한다. 멀티모달은 사용자 경험을 향상시키고 정보의 이해를 돕는 효과적인 방법으로 활용된다.',\n",
       " '프로그래밍은 컴퓨터에게 실행할 작업을 지시하는 과정을 말합니다. 이를 위해 프로그래머는 프로그래밍 언어를 사용하여 코드를 작성하고, 컴퓨터가 이를 이해하고 실행할 수 있도록 합니다. 프로그래밍을 통해 다양한 소프트웨어 및 애플리케이션을 만들어내며, 현대 사회에서는 필수적인 기술로 자리 잡고 있습니다.',\n",
       " '머신러닝은 컴퓨터 프로그램이 데이터로부터 학습하고 패턴을 발견하여 예측하는 인공지능 기술이다. 이를 통해 기계는 지능적으로 학습하고 문제를 해결할 수 있게 된다. 머신러닝은 다양한 분야에서 활용되며, 우리 주변의 다양한 기술과 서비스에 적용되어 있다.']"
      ]
     },
     "execution_count": 10,
     "metadata": {},
     "output_type": "execute_result"
    }
   ],
   "source": [
    "chain.batch(\n",
    "    [\n",
    "        {\"topic\": \"ChatGPT\"},\n",
    "        {\"topic\": \"Instagram\"},\n",
    "        {\"topic\": \"멀티모달\"},\n",
    "        {\"topic\": \"프로그래밍\"},\n",
    "        {\"topic\": \"머신러닝\"},\n",
    "    ],\n",
    "    config={\"max_concurrency\": 3},#동시처리\n",
    ")"
   ]
  },
  {
   "cell_type": "markdown",
   "metadata": {},
   "source": [
    "### async stream: 비동기 스트림"
   ]
  },
  {
   "cell_type": "code",
   "execution_count": 12,
   "metadata": {},
   "outputs": [
    {
     "name": "stdout",
     "output_type": "stream",
     "text": [
      "YouTube는 세계적으로 가장 인기 있는 동영상 공유 플랫폼으로, 사용자들은 다양한 주제의 동영상을 시청하고 업로드할 수 있다. 광고 수익과 구독자 수를 통해 수익을 창출할 수 있으며, 유명 인물들이나 크리에이터들이 활발히 활동하는 곳이다. 또한 라이브 스트리밍과 Vlog 등 다양한 콘텐츠가 제공되어 시청자들에게 다양한 영상 경험을 제공한다."
     ]
    }
   ],
   "source": [
    "async for token in chain.astream({\"topic\":\"YouTube\"}):\n",
    "    print(token, end=\"\", flush=True)"
   ]
  },
  {
   "cell_type": "markdown",
   "metadata": {},
   "source": [
    "### async invoke: 비동기 호출"
   ]
  },
  {
   "cell_type": "code",
   "execution_count": 13,
   "metadata": {},
   "outputs": [
    {
     "data": {
      "text/plain": [
       "'NVIDIA는 그래픽 카드 및 컴퓨팅 기술 분야에서 세계적으로 유명한 기업이다. GPU를 중심으로 한 다양한 제품과 서비스를 제공하며, 인공지능, 자율주행차, 가상현실 등 다양한 분야에서 혁신적인 기술을 선보이고 있다. 높은 성능과 효율성으로 인해 전 세계적으로 많은 사용자들에게 신뢰받고 있다.'"
      ]
     },
     "execution_count": 13,
     "metadata": {},
     "output_type": "execute_result"
    }
   ],
   "source": [
    "my_process = chain.ainvoke({\"topic\": \"NVIDIA\"})\n",
    "await my_process"
   ]
  },
  {
   "cell_type": "markdown",
   "metadata": {},
   "source": [
    "### async batch: 비동기 배치"
   ]
  },
  {
   "cell_type": "code",
   "execution_count": 14,
   "metadata": {},
   "outputs": [
    {
     "data": {
      "text/plain": [
       "['YouTube는 구글이 소유하고 운영하는 동영상 공유 플랫폼으로, 사용자들은 자신의 영상을 업로드하고 시청할 수 있다. 다양한 콘텐츠가 제공되며, 뉴스, 음악, 게임, 뷰티 등 다양한 주제의 영상을 즐길 수 있다. 또한 광고 수익을 얻을 수 있는 파트너 프로그램을 통해 크리에이터들이 수익을 창출할 수 있다.',\n",
       " 'Instagram은 사진과 동영상을 공유하는 소셜 미디어 플랫폼으로, 사용자들은 자신의 일상을 공유하고 다른 사람들과 소통할 수 있는 서비스입니다. 해시태그를 통해 관심사나 주제에 맞는 콘텐츠를 찾을 수 있고, 팔로우 기능을 통해 친구나 인플루언서를 팔로우하여 그들의 소식을 받아볼 수 있습니다. 또한 인스타그램 스토리와 라이브 기능을 통해 실시간으로 소통하고 다양한 콘텐츠를 공유할 수 있습니다.',\n",
       " 'Facebook은 세계적으로 가장 대중적인 소셜 네트워킹 서비스 중 하나로, 사용자들이 친구, 가족과 소통하고 커뮤니케이션을 할 수 있는 플랫폼입니다. 사용자들은 자신의 일상을 공유하고 소셜 그룹에 가입하여 관심사를 공유하며 소통할 수 있습니다. 또한 광고 및 비즈니스 활동을 위한 플랫폼으로도 활용되고 있습니다.']"
      ]
     },
     "execution_count": 14,
     "metadata": {},
     "output_type": "execute_result"
    }
   ],
   "source": [
    "abatch_process = chain.abatch(\n",
    "    [\n",
    "        {\"topic\":\"YouTube\"},\n",
    "        {\"topic\":\"Instagram\"},\n",
    "        {\"topic\":\"Facebook\"}\n",
    "    ]\n",
    ")\n",
    "await abatch_process"
   ]
  },
  {
   "cell_type": "markdown",
   "metadata": {},
   "source": [
    "### Parallel: 병렬성"
   ]
  },
  {
   "cell_type": "code",
   "execution_count": 15,
   "metadata": {},
   "outputs": [
    {
     "data": {
      "text/plain": [
       "{'capital': '대한민국의 수도는 서울입니다.', 'area': '대한민국의 면적은 약 100,363km² 입니다.'}"
      ]
     },
     "execution_count": 15,
     "metadata": {},
     "output_type": "execute_result"
    }
   ],
   "source": [
    "from langchain_core.runnables import RunnableParallel\n",
    "\n",
    "# {country} 의 수도를 물어보는 체인을 생성합니다.\n",
    "chain1 = (\n",
    "    PromptTemplate.from_template(\"{country} 의 수도는 어디야?\")\n",
    "    | model\n",
    "    | StrOutputParser()\n",
    ")\n",
    "\n",
    "# {country} 의 면적을 물어보는 체인을 생성합니다.\n",
    "chain2 = (\n",
    "    PromptTemplate.from_template(\"{country} 의 면적은 얼마야?\")\n",
    "    | model\n",
    "    | StrOutputParser()\n",
    ")\n",
    "\n",
    "combined = RunnableParallel(capital=chain1, area=chain2)\n",
    "combined.invoke({\"country\": \"대한민국\"})"
   ]
  },
  {
   "cell_type": "markdown",
   "metadata": {},
   "source": [
    "#### batch 병렬처리"
   ]
  },
  {
   "cell_type": "code",
   "execution_count": 16,
   "metadata": {},
   "outputs": [
    {
     "data": {
      "text/plain": [
       "[{'capital': '대한민국의 수도는 서울이야.', 'area': '대한민국의 총 면적은 약 100,363 제곱킬로미터입니다.'},\n",
       " {'capital': '미국의 수도는 워싱턴 D.C.입니다.', 'area': '미국의 면적은 약 9,833,520km² 입니다.'}]"
      ]
     },
     "execution_count": 16,
     "metadata": {},
     "output_type": "execute_result"
    }
   ],
   "source": [
    "combined.batch([{\"country\":\"대한민국\"},{\"country\":\"미국\"}])"
   ]
  },
  {
   "cell_type": "code",
   "execution_count": null,
   "metadata": {},
   "outputs": [],
   "source": []
  }
 ],
 "metadata": {
  "kernelspec": {
   "display_name": "langchain_tutorial",
   "language": "python",
   "name": "python3"
  },
  "language_info": {
   "codemirror_mode": {
    "name": "ipython",
    "version": 3
   },
   "file_extension": ".py",
   "mimetype": "text/x-python",
   "name": "python",
   "nbconvert_exporter": "python",
   "pygments_lexer": "ipython3",
   "version": "3.10.14"
  }
 },
 "nbformat": 4,
 "nbformat_minor": 2
}
