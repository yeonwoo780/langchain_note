{
 "cells": [
  {
   "cell_type": "code",
   "execution_count": 1,
   "metadata": {},
   "outputs": [
    {
     "data": {
      "text/plain": [
       "'/home/yeonwoo/code/study/langchain_note'"
      ]
     },
     "execution_count": 1,
     "metadata": {},
     "output_type": "execute_result"
    }
   ],
   "source": [
    "import os\n",
    "os.chdir(\"../../\")\n",
    "os.getcwd()"
   ]
  },
  {
   "cell_type": "code",
   "execution_count": 2,
   "metadata": {},
   "outputs": [
    {
     "data": {
      "text/plain": [
       "True"
      ]
     },
     "execution_count": 2,
     "metadata": {},
     "output_type": "execute_result"
    }
   ],
   "source": [
    "from dotenv import load_dotenv\n",
    "\n",
    "# API KEY 정보로드\n",
    "load_dotenv()"
   ]
  },
  {
   "cell_type": "code",
   "execution_count": 3,
   "metadata": {},
   "outputs": [],
   "source": [
    "os.environ[\"OPENAI_API_KEY\"] = os.getenv(\"OPENAI_KEY\")"
   ]
  },
  {
   "cell_type": "code",
   "execution_count": 4,
   "metadata": {},
   "outputs": [],
   "source": [
    "from langchain_openai import ChatOpenAI\n",
    "from langchain_core.output_parsers import PydanticOutputParser\n",
    "from langchain_core.pydantic_v1 import BaseModel, Field"
   ]
  },
  {
   "cell_type": "code",
   "execution_count": 5,
   "metadata": {},
   "outputs": [],
   "source": [
    "llm = ChatOpenAI(temperature=0)\n",
    "email_conversation = \"\"\"From: 김철수 (chulsoo.kim@bikecorporation.me)\n",
    "To: 이은채 (eunchae@teddyinternational.me)\n",
    "Subject: \"ZENESIS\" 자전거 유통 협력 및 미팅 일정 제안\n",
    "\n",
    "안녕하세요, 이은채 대리님,\n",
    "\n",
    "저는 바이크코퍼레이션의 김철수 상무입니다. 최근 보도자료를 통해 귀사의 신규 자전거 \"ZENESIS\"에 대해 알게 되었습니다. 바이크코퍼레이션은 자전거 제조 및 유통 분야에서 혁신과 품질을 선도하는 기업으로, 이 분야에서의 장기적인 경험과 전문성을 가지고 있습니다.\n",
    "\n",
    "ZENESIS 모델에 대한 상세한 브로슈어를 요청드립니다. 특히 기술 사양, 배터리 성능, 그리고 디자인 측면에 대한 정보가 필요합니다. 이를 통해 저희가 제안할 유통 전략과 마케팅 계획을 보다 구체화할 수 있을 것입니다.\n",
    "\n",
    "또한, 협력 가능성을 더 깊이 논의하기 위해 다음 주 화요일(1월 15일) 오전 10시에 미팅을 제안합니다. 귀사 사무실에서 만나 이야기를 나눌 수 있을까요?\n",
    "\n",
    "감사합니다.\n",
    "\n",
    "김철수\n",
    "상무이사\n",
    "바이크코퍼레이션\n",
    "\"\"\""
   ]
  },
  {
   "cell_type": "markdown",
   "metadata": {},
   "source": [
    "#### 출력파서 사용하지 않는 경우"
   ]
  },
  {
   "cell_type": "code",
   "execution_count": 34,
   "metadata": {},
   "outputs": [
    {
     "data": {
      "text/plain": [
       "'- ZENESIS 모델에 대한 상세한 브로슈어 요청\\n- 유통 전략과 마케팅 계획을 구체화하기 위한 협력 논의\\n- 다음 주 화요일(1월 15일) 오전 10시에 미팅 제안'"
      ]
     },
     "execution_count": 34,
     "metadata": {},
     "output_type": "execute_result"
    }
   ],
   "source": [
    "from itertools import chain\n",
    "from langchain_core.prompts import PromptTemplate\n",
    "\n",
    "prompt = PromptTemplate.from_template(\n",
    "    \"다음의 이메일 내용중 중요한 내용을 추출해 주세요.\\n\\n{email_conversation}\"\n",
    ")\n",
    "\n",
    "llm = ChatOpenAI(temperature=0, model=\"gpt-3.5-turbo-0125\")\n",
    "\n",
    "chain = prompt | llm\n",
    "chain.invoke({\"email_conversation\": email_conversation}).content"
   ]
  },
  {
   "cell_type": "markdown",
   "metadata": {},
   "source": [
    "#### 출력파서 사용하는 경우"
   ]
  },
  {
   "cell_type": "code",
   "execution_count": 35,
   "metadata": {},
   "outputs": [],
   "source": [
    "class EmailSummary(BaseModel):\n",
    "    person: str = Field(description=\"메일을 보낸 사람\")\n",
    "    email: str = Field(description=\"메일을 보낸 사람의 이메일 주소\")\n",
    "    subject: str = Field(description=\"메일 제목\")\n",
    "    summary: str = Field(description=\"메일 본문을 요약한 텍스트\")\n",
    "    date: str = Field(description=\"메일 본문에 언급된 미팅 날짜와 시간\")\n",
    "\n",
    "\n",
    "# PydanticOutputParser 생성\n",
    "parser = PydanticOutputParser(pydantic_object=EmailSummary)"
   ]
  },
  {
   "cell_type": "code",
   "execution_count": 36,
   "metadata": {},
   "outputs": [
    {
     "data": {
      "text/plain": [
       "'The output should be formatted as a JSON instance that conforms to the JSON schema below.\\n\\nAs an example, for the schema {\"properties\": {\"foo\": {\"title\": \"Foo\", \"description\": \"a list of strings\", \"type\": \"array\", \"items\": {\"type\": \"string\"}}}, \"required\": [\"foo\"]}\\nthe object {\"foo\": [\"bar\", \"baz\"]} is a well-formatted instance of the schema. The object {\"properties\": {\"foo\": [\"bar\", \"baz\"]}} is not well-formatted.\\n\\nHere is the output schema:\\n```\\n{\"properties\": {\"person\": {\"title\": \"Person\", \"description\": \"\\\\uba54\\\\uc77c\\\\uc744 \\\\ubcf4\\\\ub0b8 \\\\uc0ac\\\\ub78c\", \"type\": \"string\"}, \"email\": {\"title\": \"Email\", \"description\": \"\\\\uba54\\\\uc77c\\\\uc744 \\\\ubcf4\\\\ub0b8 \\\\uc0ac\\\\ub78c\\\\uc758 \\\\uc774\\\\uba54\\\\uc77c \\\\uc8fc\\\\uc18c\", \"type\": \"string\"}, \"subject\": {\"title\": \"Subject\", \"description\": \"\\\\uba54\\\\uc77c \\\\uc81c\\\\ubaa9\", \"type\": \"string\"}, \"summary\": {\"title\": \"Summary\", \"description\": \"\\\\uba54\\\\uc77c \\\\ubcf8\\\\ubb38\\\\uc744 \\\\uc694\\\\uc57d\\\\ud55c \\\\ud14d\\\\uc2a4\\\\ud2b8\", \"type\": \"string\"}, \"date\": {\"title\": \"Date\", \"description\": \"\\\\uba54\\\\uc77c \\\\ubcf8\\\\ubb38\\\\uc5d0 \\\\uc5b8\\\\uae09\\\\ub41c \\\\ubbf8\\\\ud305 \\\\ub0a0\\\\uc9dc\\\\uc640 \\\\uc2dc\\\\uac04\", \"type\": \"string\"}}, \"required\": [\"person\", \"email\", \"subject\", \"summary\", \"date\"]}\\n```'"
      ]
     },
     "execution_count": 36,
     "metadata": {},
     "output_type": "execute_result"
    }
   ],
   "source": [
    "parser.get_format_instructions()"
   ]
  },
  {
   "cell_type": "code",
   "execution_count": 41,
   "metadata": {},
   "outputs": [],
   "source": [
    "prompt = PromptTemplate.from_template(\n",
    "    \"\"\"\n",
    "You are a helpful assistant. Please answer the following questions in KOREAN.\n",
    "\n",
    "QUESTION:\n",
    "{question}\n",
    "\n",
    "EMAIL CONVERSATION:\n",
    "{email_conversation}\n",
    "\n",
    "FORMAT:\n",
    "{format}\n",
    "\"\"\"\n",
    ")\n",
    "\n",
    "# format 에 PydanticOutputParser의 부분 포맷팅(partial) 추가\n",
    "prompt = prompt.partial(format=parser.get_format_instructions())\n",
    "# chain 을 생성합니다.\n",
    "chain = prompt | llm \n",
    "output = chain.invoke({\n",
    "    \"email_conversation\": email_conversation,\n",
    "    \"question\": \"이메일 내용중 주요 내용을 반드시 format 형식에 맞게 추출해 주세요.\",\n",
    "})"
   ]
  },
  {
   "cell_type": "code",
   "execution_count": 43,
   "metadata": {},
   "outputs": [
    {
     "data": {
      "text/plain": [
       "'{\\n  \"person\": \"김철수\",\\n  \"email\": \"chulsoo.kim@bikecorporation.me\",\\n  \"subject\": \"ZENESIS 자전거 유통 협력 및 미팅 일정 제안\",\\n  \"summary\": \"ZENESIS 모델에 대한 상세한 브로슈어를 요청하며, 기술 사양, 배터리 성능, 디자인 측면에 대한 정보가 필요하다고 언급함. 또한, 다음 주 화요일(1월 15일) 오전 10시에 미팅을 제안함.\",\\n  \"date\": \"미팅 제안일자: 다음 주 화요일(1월 15일) 오전 10시\"\\n}'"
      ]
     },
     "execution_count": 43,
     "metadata": {},
     "output_type": "execute_result"
    }
   ],
   "source": [
    "output.content"
   ]
  },
  {
   "cell_type": "code",
   "execution_count": 44,
   "metadata": {},
   "outputs": [
    {
     "data": {
      "text/plain": [
       "{'person': '김철수',\n",
       " 'email': 'chulsoo.kim@bikecorporation.me',\n",
       " 'subject': 'ZENESIS 자전거 유통 협력 및 미팅 일정 제안',\n",
       " 'summary': 'ZENESIS 모델에 대한 상세한 브로슈어를 요청하며, 기술 사양, 배터리 성능, 디자인 측면에 대한 정보가 필요하다고 언급함. 또한, 다음 주 화요일(1월 15일) 오전 10시에 미팅을 제안함.',\n",
       " 'date': '미팅 제안일자: 다음 주 화요일(1월 15일) 오전 10시'}"
      ]
     },
     "execution_count": 44,
     "metadata": {},
     "output_type": "execute_result"
    }
   ],
   "source": [
    "import json\n",
    "json.loads(output.content)"
   ]
  },
  {
   "cell_type": "code",
   "execution_count": 45,
   "metadata": {},
   "outputs": [
    {
     "data": {
      "text/plain": [
       "EmailSummary(person='김철수', email='chulsoo.kim@bikecorporation.me', subject='ZENESIS 자전거 유통 협력 및 미팅 일정 제안', summary='ZENESIS 모델에 대한 상세한 브로슈어를 요청하며, 기술 사양, 배터리 성능, 디자인 측면에 대한 정보 필요. 다음 주 화요일(1월 15일) 오전 10시에 미팅 제안.', date='2023-01-15 10:00 AM')"
      ]
     },
     "execution_count": 45,
     "metadata": {},
     "output_type": "execute_result"
    }
   ],
   "source": [
    "# 출력 파서를 추가하여 전체 체인을 재구성합니다.\n",
    "chain = prompt | llm | parser\n",
    "# chain 을 실행하고 결과를 출력합니다.\n",
    "response = chain.invoke(\n",
    "    {\n",
    "        \"email_conversation\": email_conversation,\n",
    "        \"question\": \"이메일 내용중 주요 내용을 반드시 format 형식에 맞게 추출해 주세요.\",\n",
    "    }\n",
    ")\n",
    "\n",
    "# 결과는 EmailSummary 객체 형태로 출력됩니다.\n",
    "response"
   ]
  },
  {
   "cell_type": "code",
   "execution_count": 46,
   "metadata": {},
   "outputs": [
    {
     "data": {
      "text/plain": [
       "EmailSummary(person='김철수', email='chulsoo.kim@bikecorporation.me', subject='\"ZENESIS\" 자전거 유통 협력 및 미팅 일정 제안', summary='바이크코퍼레이션의 김철수 상무가 이은채 대리에게 ZENESIS 자전거에 대한 협력 제안과 미팅 일정을 제안하는 이메일을 보냈습니다. ZENESIS 모델에 대한 상세한 정보를 요청하고, 다음 주 화요일 오전 10시에 미팅을 제안했습니다.', date='다음 주 화요일(1월 15일) 오전 10시')"
      ]
     },
     "execution_count": 46,
     "metadata": {},
     "output_type": "execute_result"
    }
   ],
   "source": [
    "llm_with_structered = ChatOpenAI(temperature=0, model=\"gpt-3.5-turbo-0125\").with_structured_output(EmailSummary)\n",
    "answer = llm_with_structered.invoke(email_conversation)\n",
    "answer"
   ]
  },
  {
   "cell_type": "code",
   "execution_count": null,
   "metadata": {},
   "outputs": [],
   "source": []
  }
 ],
 "metadata": {
  "kernelspec": {
   "display_name": "langchain_tutorial",
   "language": "python",
   "name": "python3"
  },
  "language_info": {
   "codemirror_mode": {
    "name": "ipython",
    "version": 3
   },
   "file_extension": ".py",
   "mimetype": "text/x-python",
   "name": "python",
   "nbconvert_exporter": "python",
   "pygments_lexer": "ipython3",
   "version": "3.10.14"
  }
 },
 "nbformat": 4,
 "nbformat_minor": 2
}
